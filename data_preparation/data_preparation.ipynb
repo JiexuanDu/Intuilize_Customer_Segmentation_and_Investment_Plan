{
 "cells": [
  {
   "cell_type": "code",
   "execution_count": 1,
   "metadata": {},
   "outputs": [],
   "source": [
    "# for print all the result\n",
    "from IPython.core.interactiveshell import InteractiveShell\n",
    "InteractiveShell.ast_node_interactivity = \"all\"\n",
    "import gc\n",
    "import os\n",
    "import time\n",
    "import numpy as np\n",
    "import pandas as pd"
   ]
  },
  {
   "cell_type": "code",
   "execution_count": 2,
   "metadata": {},
   "outputs": [],
   "source": [
    "merge_start_time = time.time()"
   ]
  },
  {
   "cell_type": "code",
   "execution_count": 3,
   "metadata": {},
   "outputs": [],
   "source": [
    "# You need to change this path to your own working directory\n",
    "os.chdir('C:/Users/jiexu/OneDrive/20spring/business analytics practium/') "
   ]
  },
  {
   "cell_type": "code",
   "execution_count": 4,
   "metadata": {},
   "outputs": [],
   "source": [
    "#read sheet SALES_DATA\n",
    "sales_data = pd.read_excel('POC-DATA-JUNE1.xlsx',sheet_name = 'SALES_DATA')\n",
    "#read sheet \n",
    "product = pd.read_excel('POC-DATA-JUNE1.xlsx',sheet_name = 'PRODUCT')\n",
    "#read inventory data\n",
    "inventory_data = pd.read_excel('POC-DATA-JUNE1.xlsx',sheet_name = 'INVENTORY DATA')"
   ]
  },
  {
   "cell_type": "code",
   "execution_count": 5,
   "metadata": {},
   "outputs": [],
   "source": [
    "table1 = pd.merge(inventory_data, product, how = 'left', on = 'StockCode').fillna('0')\n",
    "table2 = pd.merge(sales_data, table1, how = 'left', on = 'StockCode').fillna('0')"
   ]
  },
  {
   "cell_type": "code",
   "execution_count": 6,
   "metadata": {},
   "outputs": [],
   "source": [
    "# restart point\n",
    "df = table2"
   ]
  },
  {
   "cell_type": "code",
   "execution_count": 7,
   "metadata": {},
   "outputs": [
    {
     "data": {
      "text/plain": [
       "40"
      ]
     },
     "execution_count": 7,
     "metadata": {},
     "output_type": "execute_result"
    }
   ],
   "source": [
    "del sales_data\n",
    "del product\n",
    "del inventory_data\n",
    "del table1\n",
    "del table2\n",
    "gc.collect()"
   ]
  },
  {
   "cell_type": "code",
   "execution_count": 8,
   "metadata": {},
   "outputs": [
    {
     "name": "stdout",
     "output_type": "stream",
     "text": [
      "InvoiceNo --------------- Out of range\n",
      "StockCode --------------- Out of range\n",
      "Quantity Shipped --------------- Out of range\n",
      "Year --------------- [2017 2018 2016]\n",
      "Invoice Date --------------- Out of range\n",
      "UnitPrice --------------- Out of range\n",
      "Ext-Price --------------- Out of range\n",
      "CustomerID --------------- Out of range\n",
      "Country --------------- ['United Kingdom' 'EIRE' 'Germany' 'France' 'Israel' 'Austria' 'Norway'\n",
      " 'Finland' 'Spain' 'Belgium' 'Switzerland' 'Portugal' 'Netherlands'\n",
      " 'Singapore' 'Japan' 'Sweden' 'Malta' 'Greece' 'Hong Kong' 'Unspecified'\n",
      " 'Cyprus' 'Canada' 'United Arab Emirates' 'Australia' 'Italy'\n",
      " 'Channel Islands' 'Denmark' 'USA' 'Poland' 'Iceland' 'Czech Republic'\n",
      " 'RSA' 'European Community' 'Lebanon' 'Saudi Arabia' 'Lithuania' 'Bahrain'\n",
      " 'Brazil']\n",
      "GM% --------------- Out of range\n",
      "Shipper --------------- ['Delivery Truck' 'UPS Next day Air' 'UPS ground 2nd day'\n",
      " 'UPS ground 3rd day']\n",
      "COST --------------- Out of range\n",
      "EXT COST --------------- Out of range\n",
      "REGION --------------- ['SOUTH' 'WEST' 'CENTRAL' 'NORTH']\n",
      "SALES P --------------- ['GRACE J' 'JEFF Y' 'PETER T' 'GAIL H' 'JOHN A' 'STEPHAN B']\n",
      "Unnamed: 15 --------------- Out of range\n",
      "LOCATION --------------- ['WSE 1' '0' 'WSE 2']\n",
      "DESCRIPTION --------------- ['0']\n",
      "QUANTITY ON HAND --------------- Out of range\n",
      "UNIT OF MEASURE --------------- ['EACH' '0']\n",
      "UNIT COST --------------- Out of range\n",
      "EXTENDED COST --------------- Out of range\n",
      "DATE --------------- [Timestamp('2018-06-01 00:00:00') Timestamp('2017-06-01 00:00:00') '0']\n",
      "LAST RECEIPT DATE  --------------- Out of range\n",
      "Commodity --------------- ['Studs' '0' 'Bolt' 'Screw' 'Nut' 'Washer']\n"
     ]
    }
   ],
   "source": [
    "for col in df:\n",
    "    if len(df[col].unique()) <= 40:\n",
    "        print(df[col].name,'---------------',df[col].unique())\n",
    "    else:\n",
    "        print(df[col].name,'--------------- Out of range')"
   ]
  },
  {
   "cell_type": "code",
   "execution_count": 9,
   "metadata": {},
   "outputs": [
    {
     "data": {
      "text/plain": [
       "InvoiceNo             0\n",
       "StockCode             0\n",
       "Quantity Shipped      0\n",
       "Year                  0\n",
       "Invoice Date          0\n",
       "UnitPrice             0\n",
       "Ext-Price             0\n",
       "CustomerID            0\n",
       "Country               0\n",
       "GM%                   0\n",
       "Shipper               0\n",
       "COST                  0\n",
       "EXT COST              0\n",
       "REGION                0\n",
       "SALES P               0\n",
       "LOCATION              0\n",
       "QUANTITY ON HAND      0\n",
       "UNIT COST             0\n",
       "EXTENDED COST         0\n",
       "DATE                  0\n",
       "LAST RECEIPT DATE     0\n",
       "Commodity             0\n",
       "dtype: int64"
      ]
     },
     "execution_count": 9,
     "metadata": {},
     "output_type": "execute_result"
    },
    {
     "data": {
      "text/plain": [
       "(1120060, 22)"
      ]
     },
     "execution_count": 9,
     "metadata": {},
     "output_type": "execute_result"
    }
   ],
   "source": [
    "df = df.drop(columns = ['Unnamed: 15', 'DESCRIPTION', 'UNIT OF MEASURE'])\n",
    "df = df[df.Commodity != '0']\n",
    "df = df[df.DATE  != '0']\n",
    "df = df[df.LOCATION   != '0']\n",
    "df.isnull().sum()\n",
    "df.shape"
   ]
  },
  {
   "cell_type": "code",
   "execution_count": 10,
   "metadata": {},
   "outputs": [],
   "source": [
    "df.to_csv('pre-cleaned_data.csv', index = False)"
   ]
  },
  {
   "cell_type": "code",
   "execution_count": 11,
   "metadata": {},
   "outputs": [
    {
     "data": {
      "text/html": [
       "<div>\n",
       "<style scoped>\n",
       "    .dataframe tbody tr th:only-of-type {\n",
       "        vertical-align: middle;\n",
       "    }\n",
       "\n",
       "    .dataframe tbody tr th {\n",
       "        vertical-align: top;\n",
       "    }\n",
       "\n",
       "    .dataframe thead th {\n",
       "        text-align: right;\n",
       "    }\n",
       "</style>\n",
       "<table border=\"1\" class=\"dataframe\">\n",
       "  <thead>\n",
       "    <tr style=\"text-align: right;\">\n",
       "      <th></th>\n",
       "      <th>InvoiceNo</th>\n",
       "      <th>StockCode</th>\n",
       "      <th>Quantity Shipped</th>\n",
       "      <th>Year</th>\n",
       "      <th>Invoice Date</th>\n",
       "      <th>UnitPrice</th>\n",
       "      <th>Ext-Price</th>\n",
       "      <th>CustomerID</th>\n",
       "      <th>Country</th>\n",
       "      <th>GM%</th>\n",
       "      <th>...</th>\n",
       "      <th>EXT COST</th>\n",
       "      <th>REGION</th>\n",
       "      <th>SALES P</th>\n",
       "      <th>LOCATION</th>\n",
       "      <th>QUANTITY ON HAND</th>\n",
       "      <th>UNIT COST</th>\n",
       "      <th>EXTENDED COST</th>\n",
       "      <th>DATE</th>\n",
       "      <th>LAST RECEIPT DATE</th>\n",
       "      <th>Commodity</th>\n",
       "    </tr>\n",
       "  </thead>\n",
       "  <tbody>\n",
       "    <tr>\n",
       "      <th>0</th>\n",
       "      <td>568200</td>\n",
       "      <td>PADS</td>\n",
       "      <td>5.00</td>\n",
       "      <td>2017</td>\n",
       "      <td>2017-09-25 00:00:00</td>\n",
       "      <td>0.999975</td>\n",
       "      <td>4.999876</td>\n",
       "      <td>16198</td>\n",
       "      <td>United Kingdom</td>\n",
       "      <td>0.000023</td>\n",
       "      <td>...</td>\n",
       "      <td>4.999763</td>\n",
       "      <td>SOUTH</td>\n",
       "      <td>GRACE J</td>\n",
       "      <td>WSE 1</td>\n",
       "      <td>0.833333</td>\n",
       "      <td>0.999953</td>\n",
       "      <td>0.833294</td>\n",
       "      <td>2018-06-01 00:00:00</td>\n",
       "      <td>2018-01-26 00:00:00</td>\n",
       "      <td>Studs</td>\n",
       "    </tr>\n",
       "    <tr>\n",
       "      <th>1</th>\n",
       "      <td>568200</td>\n",
       "      <td>PADS</td>\n",
       "      <td>5.00</td>\n",
       "      <td>2017</td>\n",
       "      <td>2017-09-25 00:00:00</td>\n",
       "      <td>0.999975</td>\n",
       "      <td>4.999876</td>\n",
       "      <td>16198</td>\n",
       "      <td>United Kingdom</td>\n",
       "      <td>0.000023</td>\n",
       "      <td>...</td>\n",
       "      <td>4.999763</td>\n",
       "      <td>SOUTH</td>\n",
       "      <td>GRACE J</td>\n",
       "      <td>WSE 1</td>\n",
       "      <td>0.591667</td>\n",
       "      <td>0.999953</td>\n",
       "      <td>0.591639</td>\n",
       "      <td>2017-06-01 00:00:00</td>\n",
       "      <td>2017-10-09 00:00:00</td>\n",
       "      <td>Studs</td>\n",
       "    </tr>\n",
       "    <tr>\n",
       "      <th>2</th>\n",
       "      <td>561226</td>\n",
       "      <td>PADS</td>\n",
       "      <td>5.00</td>\n",
       "      <td>2017</td>\n",
       "      <td>2017-07-26 00:00:00</td>\n",
       "      <td>0.999886</td>\n",
       "      <td>4.999428</td>\n",
       "      <td>15618</td>\n",
       "      <td>United Kingdom</td>\n",
       "      <td>-0.000067</td>\n",
       "      <td>...</td>\n",
       "      <td>4.999763</td>\n",
       "      <td>SOUTH</td>\n",
       "      <td>GRACE J</td>\n",
       "      <td>WSE 1</td>\n",
       "      <td>0.833333</td>\n",
       "      <td>0.999953</td>\n",
       "      <td>0.833294</td>\n",
       "      <td>2018-06-01 00:00:00</td>\n",
       "      <td>2018-01-26 00:00:00</td>\n",
       "      <td>Studs</td>\n",
       "    </tr>\n",
       "    <tr>\n",
       "      <th>3</th>\n",
       "      <td>561226</td>\n",
       "      <td>PADS</td>\n",
       "      <td>5.00</td>\n",
       "      <td>2017</td>\n",
       "      <td>2017-07-26 00:00:00</td>\n",
       "      <td>0.999886</td>\n",
       "      <td>4.999428</td>\n",
       "      <td>15618</td>\n",
       "      <td>United Kingdom</td>\n",
       "      <td>-0.000067</td>\n",
       "      <td>...</td>\n",
       "      <td>4.999763</td>\n",
       "      <td>SOUTH</td>\n",
       "      <td>GRACE J</td>\n",
       "      <td>WSE 1</td>\n",
       "      <td>0.591667</td>\n",
       "      <td>0.999953</td>\n",
       "      <td>0.591639</td>\n",
       "      <td>2017-06-01 00:00:00</td>\n",
       "      <td>2017-10-09 00:00:00</td>\n",
       "      <td>Studs</td>\n",
       "    </tr>\n",
       "    <tr>\n",
       "      <th>4</th>\n",
       "      <td>2550193</td>\n",
       "      <td>PADS</td>\n",
       "      <td>7.08</td>\n",
       "      <td>2018</td>\n",
       "      <td>2018-06-08 00:00:00</td>\n",
       "      <td>0.999962</td>\n",
       "      <td>7.079728</td>\n",
       "      <td>13952</td>\n",
       "      <td>United Kingdom</td>\n",
       "      <td>0.000009</td>\n",
       "      <td>...</td>\n",
       "      <td>7.079664</td>\n",
       "      <td>CENTRAL</td>\n",
       "      <td>PETER T</td>\n",
       "      <td>WSE 1</td>\n",
       "      <td>0.833333</td>\n",
       "      <td>0.999953</td>\n",
       "      <td>0.833294</td>\n",
       "      <td>2018-06-01 00:00:00</td>\n",
       "      <td>2018-01-26 00:00:00</td>\n",
       "      <td>Studs</td>\n",
       "    </tr>\n",
       "  </tbody>\n",
       "</table>\n",
       "<p>5 rows × 22 columns</p>\n",
       "</div>"
      ],
      "text/plain": [
       "  InvoiceNo StockCode  Quantity Shipped  Year         Invoice Date  UnitPrice  \\\n",
       "0    568200      PADS              5.00  2017  2017-09-25 00:00:00   0.999975   \n",
       "1    568200      PADS              5.00  2017  2017-09-25 00:00:00   0.999975   \n",
       "2    561226      PADS              5.00  2017  2017-07-26 00:00:00   0.999886   \n",
       "3    561226      PADS              5.00  2017  2017-07-26 00:00:00   0.999886   \n",
       "4   2550193      PADS              7.08  2018  2018-06-08 00:00:00   0.999962   \n",
       "\n",
       "   Ext-Price  CustomerID         Country       GM%  ...  EXT COST   REGION  \\\n",
       "0   4.999876       16198  United Kingdom  0.000023  ...  4.999763    SOUTH   \n",
       "1   4.999876       16198  United Kingdom  0.000023  ...  4.999763    SOUTH   \n",
       "2   4.999428       15618  United Kingdom -0.000067  ...  4.999763    SOUTH   \n",
       "3   4.999428       15618  United Kingdom -0.000067  ...  4.999763    SOUTH   \n",
       "4   7.079728       13952  United Kingdom  0.000009  ...  7.079664  CENTRAL   \n",
       "\n",
       "   SALES P LOCATION QUANTITY ON HAND UNIT COST  EXTENDED COST  \\\n",
       "0  GRACE J    WSE 1         0.833333  0.999953       0.833294   \n",
       "1  GRACE J    WSE 1         0.591667  0.999953       0.591639   \n",
       "2  GRACE J    WSE 1         0.833333  0.999953       0.833294   \n",
       "3  GRACE J    WSE 1         0.591667  0.999953       0.591639   \n",
       "4  PETER T    WSE 1         0.833333  0.999953       0.833294   \n",
       "\n",
       "                  DATE   LAST RECEIPT DATE  Commodity  \n",
       "0  2018-06-01 00:00:00  2018-01-26 00:00:00     Studs  \n",
       "1  2017-06-01 00:00:00  2017-10-09 00:00:00     Studs  \n",
       "2  2018-06-01 00:00:00  2018-01-26 00:00:00     Studs  \n",
       "3  2017-06-01 00:00:00  2017-10-09 00:00:00     Studs  \n",
       "4  2018-06-01 00:00:00  2018-01-26 00:00:00     Studs  \n",
       "\n",
       "[5 rows x 22 columns]"
      ]
     },
     "execution_count": 11,
     "metadata": {},
     "output_type": "execute_result"
    },
    {
     "data": {
      "text/plain": [
       "(1120060, 22)"
      ]
     },
     "execution_count": 11,
     "metadata": {},
     "output_type": "execute_result"
    }
   ],
   "source": [
    "raw = pd.read_csv('pre-cleaned_data.csv')\n",
    "raw.head()\n",
    "raw.shape"
   ]
  },
  {
   "cell_type": "code",
   "execution_count": 12,
   "metadata": {},
   "outputs": [
    {
     "name": "stdout",
     "output_type": "stream",
     "text": [
      "Table Merging Time = 269.4240 s\n"
     ]
    }
   ],
   "source": [
    "merge_stop_time = time.time()\n",
    "merge_time_flow = merge_stop_time - merge_start_time\n",
    "print('Table Merging Time =','%.4f' % merge_time_flow,'s')"
   ]
  }
 ],
 "metadata": {
  "kernelspec": {
   "display_name": "Python 3",
   "language": "python",
   "name": "python3"
  },
  "language_info": {
   "codemirror_mode": {
    "name": "ipython",
    "version": 3
   },
   "file_extension": ".py",
   "mimetype": "text/x-python",
   "name": "python",
   "nbconvert_exporter": "python",
   "pygments_lexer": "ipython3",
   "version": "3.7.3"
  }
 },
 "nbformat": 4,
 "nbformat_minor": 2
}
