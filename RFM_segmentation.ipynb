{
 "cells": [
  {
   "cell_type": "code",
   "execution_count": 2,
   "metadata": {},
   "outputs": [],
   "source": [
    "from IPython.core.interactiveshell import InteractiveShell\n",
    "InteractiveShell.ast_node_interactivity = \"all\""
   ]
  },
  {
   "cell_type": "code",
   "execution_count": 3,
   "metadata": {},
   "outputs": [],
   "source": [
    "import pandas as pd\n",
    "import numpy as np\n",
    "from datetime import datetime,date"
   ]
  },
  {
   "cell_type": "code",
   "execution_count": 4,
   "metadata": {},
   "outputs": [],
   "source": [
    "data=pd.read_csv(\"pre-cleaned_data.csv\")"
   ]
  },
  {
   "cell_type": "code",
   "execution_count": 5,
   "metadata": {},
   "outputs": [],
   "source": [
    "data['Invoice Date'] = pd.to_datetime(data['Invoice Date'], errors='coerce')\n"
   ]
  },
  {
   "cell_type": "code",
   "execution_count": 6,
   "metadata": {},
   "outputs": [],
   "source": [
    "data['timedifference']=(pd.to_datetime('today')-data['Invoice Date'])"
   ]
  },
  {
   "cell_type": "code",
   "execution_count": 7,
   "metadata": {},
   "outputs": [
    {
     "data": {
      "text/html": [
       "<div>\n",
       "<style scoped>\n",
       "    .dataframe tbody tr th:only-of-type {\n",
       "        vertical-align: middle;\n",
       "    }\n",
       "\n",
       "    .dataframe tbody tr th {\n",
       "        vertical-align: top;\n",
       "    }\n",
       "\n",
       "    .dataframe thead th {\n",
       "        text-align: right;\n",
       "    }\n",
       "</style>\n",
       "<table border=\"1\" class=\"dataframe\">\n",
       "  <thead>\n",
       "    <tr style=\"text-align: right;\">\n",
       "      <th></th>\n",
       "      <th>InvoiceNo</th>\n",
       "      <th>StockCode</th>\n",
       "      <th>Quantity Shipped</th>\n",
       "      <th>Year</th>\n",
       "      <th>Invoice Date</th>\n",
       "      <th>UnitPrice</th>\n",
       "      <th>Ext-Price</th>\n",
       "      <th>CustomerID</th>\n",
       "      <th>Country</th>\n",
       "      <th>GM%</th>\n",
       "      <th>...</th>\n",
       "      <th>REGION</th>\n",
       "      <th>SALES P</th>\n",
       "      <th>LOCATION</th>\n",
       "      <th>QUANTITY ON HAND</th>\n",
       "      <th>UNIT COST</th>\n",
       "      <th>EXTENDED COST</th>\n",
       "      <th>DATE</th>\n",
       "      <th>LASTRECEIPTDATE</th>\n",
       "      <th>Commodity</th>\n",
       "      <th>timedifference</th>\n",
       "    </tr>\n",
       "  </thead>\n",
       "  <tbody>\n",
       "    <tr>\n",
       "      <td>2</td>\n",
       "      <td>2541431</td>\n",
       "      <td>23166</td>\n",
       "      <td>664224.250</td>\n",
       "      <td>2018</td>\n",
       "      <td>2018-05-09</td>\n",
       "      <td>1.130416</td>\n",
       "      <td>750849.719800</td>\n",
       "      <td>12346</td>\n",
       "      <td>United Kingdom</td>\n",
       "      <td>-0.139276</td>\n",
       "      <td>...</td>\n",
       "      <td>WEST</td>\n",
       "      <td>JEFF Y</td>\n",
       "      <td>WSE 2</td>\n",
       "      <td>1892.00000</td>\n",
       "      <td>1.287856</td>\n",
       "      <td>2436.623660</td>\n",
       "      <td>6/1/18 0:00</td>\n",
       "      <td>8/5/14 0:00</td>\n",
       "      <td>Washer</td>\n",
       "      <td>720 days 22:51:37.461516</td>\n",
       "    </tr>\n",
       "    <tr>\n",
       "      <td>3</td>\n",
       "      <td>2541431</td>\n",
       "      <td>23166</td>\n",
       "      <td>664224.250</td>\n",
       "      <td>2018</td>\n",
       "      <td>2018-05-09</td>\n",
       "      <td>1.130416</td>\n",
       "      <td>750849.719800</td>\n",
       "      <td>12346</td>\n",
       "      <td>United Kingdom</td>\n",
       "      <td>-0.139276</td>\n",
       "      <td>...</td>\n",
       "      <td>WEST</td>\n",
       "      <td>JEFF Y</td>\n",
       "      <td>WSE 2</td>\n",
       "      <td>1627.12000</td>\n",
       "      <td>1.287856</td>\n",
       "      <td>2095.496347</td>\n",
       "      <td>6/1/17 0:00</td>\n",
       "      <td>11/10/13 0:00</td>\n",
       "      <td>Washer</td>\n",
       "      <td>720 days 22:51:37.461516</td>\n",
       "    </tr>\n",
       "    <tr>\n",
       "      <td>6</td>\n",
       "      <td>2542237</td>\n",
       "      <td>22417</td>\n",
       "      <td>2.700</td>\n",
       "      <td>2018</td>\n",
       "      <td>NaT</td>\n",
       "      <td>0.975580</td>\n",
       "      <td>2.634066</td>\n",
       "      <td>12347</td>\n",
       "      <td>Iceland</td>\n",
       "      <td>0.066757</td>\n",
       "      <td>...</td>\n",
       "      <td>NORTH</td>\n",
       "      <td>JOHN A</td>\n",
       "      <td>WSE 1</td>\n",
       "      <td>15887.14286</td>\n",
       "      <td>0.910453</td>\n",
       "      <td>14464.495630</td>\n",
       "      <td>6/1/18 0:00</td>\n",
       "      <td>7/9/15 0:00</td>\n",
       "      <td>Nut</td>\n",
       "      <td>NaT</td>\n",
       "    </tr>\n",
       "    <tr>\n",
       "      <td>7</td>\n",
       "      <td>2542237</td>\n",
       "      <td>22417</td>\n",
       "      <td>2.700</td>\n",
       "      <td>2018</td>\n",
       "      <td>NaT</td>\n",
       "      <td>0.975580</td>\n",
       "      <td>2.634066</td>\n",
       "      <td>12347</td>\n",
       "      <td>Iceland</td>\n",
       "      <td>0.066757</td>\n",
       "      <td>...</td>\n",
       "      <td>NORTH</td>\n",
       "      <td>JOHN A</td>\n",
       "      <td>WSE 1</td>\n",
       "      <td>13345.20000</td>\n",
       "      <td>0.910453</td>\n",
       "      <td>12150.176330</td>\n",
       "      <td>6/1/17 0:00</td>\n",
       "      <td>3/24/18 0:00</td>\n",
       "      <td>Nut</td>\n",
       "      <td>NaT</td>\n",
       "    </tr>\n",
       "    <tr>\n",
       "      <td>8</td>\n",
       "      <td>2549222</td>\n",
       "      <td>16008</td>\n",
       "      <td>21.543</td>\n",
       "      <td>2018</td>\n",
       "      <td>2018-04-10</td>\n",
       "      <td>1.014800</td>\n",
       "      <td>21.861836</td>\n",
       "      <td>12347</td>\n",
       "      <td>Iceland</td>\n",
       "      <td>-0.000825</td>\n",
       "      <td>...</td>\n",
       "      <td>NORTH</td>\n",
       "      <td>JOHN A</td>\n",
       "      <td>WSE 2</td>\n",
       "      <td>5546.00000</td>\n",
       "      <td>1.015637</td>\n",
       "      <td>5632.724144</td>\n",
       "      <td>6/1/18 0:00</td>\n",
       "      <td>8/26/16 0:00</td>\n",
       "      <td>Bolt</td>\n",
       "      <td>749 days 22:51:37.461516</td>\n",
       "    </tr>\n",
       "  </tbody>\n",
       "</table>\n",
       "<p>5 rows × 23 columns</p>\n",
       "</div>"
      ],
      "text/plain": [
       "  InvoiceNo StockCode  Quantity Shipped  Year Invoice Date  UnitPrice  \\\n",
       "2   2541431     23166        664224.250  2018   2018-05-09   1.130416   \n",
       "3   2541431     23166        664224.250  2018   2018-05-09   1.130416   \n",
       "6   2542237     22417             2.700  2018          NaT   0.975580   \n",
       "7   2542237     22417             2.700  2018          NaT   0.975580   \n",
       "8   2549222     16008            21.543  2018   2018-04-10   1.014800   \n",
       "\n",
       "       Ext-Price  CustomerID         Country       GM%  ... REGION  SALES P  \\\n",
       "2  750849.719800       12346  United Kingdom -0.139276  ...   WEST   JEFF Y   \n",
       "3  750849.719800       12346  United Kingdom -0.139276  ...   WEST   JEFF Y   \n",
       "6       2.634066       12347         Iceland  0.066757  ...  NORTH   JOHN A   \n",
       "7       2.634066       12347         Iceland  0.066757  ...  NORTH   JOHN A   \n",
       "8      21.861836       12347         Iceland -0.000825  ...  NORTH   JOHN A   \n",
       "\n",
       "   LOCATION QUANTITY ON HAND UNIT COST EXTENDED COST         DATE  \\\n",
       "2     WSE 2       1892.00000  1.287856   2436.623660  6/1/18 0:00   \n",
       "3     WSE 2       1627.12000  1.287856   2095.496347  6/1/17 0:00   \n",
       "6     WSE 1      15887.14286  0.910453  14464.495630  6/1/18 0:00   \n",
       "7     WSE 1      13345.20000  0.910453  12150.176330  6/1/17 0:00   \n",
       "8     WSE 2       5546.00000  1.015637   5632.724144  6/1/18 0:00   \n",
       "\n",
       "   LASTRECEIPTDATE   Commodity           timedifference  \n",
       "2       8/5/14 0:00     Washer 720 days 22:51:37.461516  \n",
       "3     11/10/13 0:00     Washer 720 days 22:51:37.461516  \n",
       "6       7/9/15 0:00        Nut                      NaT  \n",
       "7      3/24/18 0:00        Nut                      NaT  \n",
       "8      8/26/16 0:00       Bolt 749 days 22:51:37.461516  \n",
       "\n",
       "[5 rows x 23 columns]"
      ]
     },
     "execution_count": 7,
     "metadata": {},
     "output_type": "execute_result"
    }
   ],
   "source": [
    "data08=data.loc[data['Year'].isin(['2018'])]\n",
    "data08.head(5)"
   ]
  },
  {
   "cell_type": "code",
   "execution_count": 8,
   "metadata": {},
   "outputs": [
    {
     "data": {
      "text/html": [
       "<div>\n",
       "<style scoped>\n",
       "    .dataframe tbody tr th:only-of-type {\n",
       "        vertical-align: middle;\n",
       "    }\n",
       "\n",
       "    .dataframe tbody tr th {\n",
       "        vertical-align: top;\n",
       "    }\n",
       "\n",
       "    .dataframe thead th {\n",
       "        text-align: right;\n",
       "    }\n",
       "</style>\n",
       "<table border=\"1\" class=\"dataframe\">\n",
       "  <thead>\n",
       "    <tr style=\"text-align: right;\">\n",
       "      <th></th>\n",
       "      <th>InvoiceNo</th>\n",
       "      <th>StockCode</th>\n",
       "      <th>Quantity Shipped</th>\n",
       "      <th>Year</th>\n",
       "      <th>Invoice Date</th>\n",
       "      <th>UnitPrice</th>\n",
       "      <th>Ext-Price</th>\n",
       "      <th>CustomerID</th>\n",
       "      <th>Country</th>\n",
       "      <th>GM%</th>\n",
       "      <th>...</th>\n",
       "      <th>REGION</th>\n",
       "      <th>SALES P</th>\n",
       "      <th>LOCATION</th>\n",
       "      <th>QUANTITY ON HAND</th>\n",
       "      <th>UNIT COST</th>\n",
       "      <th>EXTENDED COST</th>\n",
       "      <th>DATE</th>\n",
       "      <th>LASTRECEIPTDATE</th>\n",
       "      <th>Commodity</th>\n",
       "      <th>timedifference</th>\n",
       "    </tr>\n",
       "  </thead>\n",
       "  <tbody>\n",
       "    <tr>\n",
       "      <td>0</td>\n",
       "      <td>C541433</td>\n",
       "      <td>23166</td>\n",
       "      <td>16.65</td>\n",
       "      <td>2017</td>\n",
       "      <td>2017-01-18</td>\n",
       "      <td>1.095992</td>\n",
       "      <td>18.248267</td>\n",
       "      <td>12346</td>\n",
       "      <td>United Kingdom</td>\n",
       "      <td>-0.175060</td>\n",
       "      <td>...</td>\n",
       "      <td>WEST</td>\n",
       "      <td>JEFF Y</td>\n",
       "      <td>WSE 2</td>\n",
       "      <td>1892.00000</td>\n",
       "      <td>1.287856</td>\n",
       "      <td>2436.623660</td>\n",
       "      <td>6/1/18 0:00</td>\n",
       "      <td>8/5/14 0:00</td>\n",
       "      <td>Washer</td>\n",
       "      <td>1196 days 22:51:37.461516</td>\n",
       "    </tr>\n",
       "    <tr>\n",
       "      <td>1</td>\n",
       "      <td>C541433</td>\n",
       "      <td>23166</td>\n",
       "      <td>16.65</td>\n",
       "      <td>2017</td>\n",
       "      <td>2017-01-18</td>\n",
       "      <td>1.095992</td>\n",
       "      <td>18.248267</td>\n",
       "      <td>12346</td>\n",
       "      <td>United Kingdom</td>\n",
       "      <td>-0.175060</td>\n",
       "      <td>...</td>\n",
       "      <td>WEST</td>\n",
       "      <td>JEFF Y</td>\n",
       "      <td>WSE 2</td>\n",
       "      <td>1627.12000</td>\n",
       "      <td>1.287856</td>\n",
       "      <td>2095.496347</td>\n",
       "      <td>6/1/17 0:00</td>\n",
       "      <td>11/10/13 0:00</td>\n",
       "      <td>Washer</td>\n",
       "      <td>1196 days 22:51:37.461516</td>\n",
       "    </tr>\n",
       "    <tr>\n",
       "      <td>4</td>\n",
       "      <td>542237</td>\n",
       "      <td>22417</td>\n",
       "      <td>1.00</td>\n",
       "      <td>2017</td>\n",
       "      <td>2017-01-26</td>\n",
       "      <td>0.854470</td>\n",
       "      <td>0.854470</td>\n",
       "      <td>12347</td>\n",
       "      <td>Iceland</td>\n",
       "      <td>-0.065518</td>\n",
       "      <td>...</td>\n",
       "      <td>NORTH</td>\n",
       "      <td>JOHN A</td>\n",
       "      <td>WSE 1</td>\n",
       "      <td>15887.14286</td>\n",
       "      <td>0.910453</td>\n",
       "      <td>14464.495630</td>\n",
       "      <td>6/1/18 0:00</td>\n",
       "      <td>7/9/15 0:00</td>\n",
       "      <td>Nut</td>\n",
       "      <td>1188 days 22:51:37.461516</td>\n",
       "    </tr>\n",
       "    <tr>\n",
       "      <td>5</td>\n",
       "      <td>542237</td>\n",
       "      <td>22417</td>\n",
       "      <td>1.00</td>\n",
       "      <td>2017</td>\n",
       "      <td>2017-01-26</td>\n",
       "      <td>0.854470</td>\n",
       "      <td>0.854470</td>\n",
       "      <td>12347</td>\n",
       "      <td>Iceland</td>\n",
       "      <td>-0.065518</td>\n",
       "      <td>...</td>\n",
       "      <td>NORTH</td>\n",
       "      <td>JOHN A</td>\n",
       "      <td>WSE 1</td>\n",
       "      <td>13345.20000</td>\n",
       "      <td>0.910453</td>\n",
       "      <td>12150.176330</td>\n",
       "      <td>6/1/17 0:00</td>\n",
       "      <td>3/24/18 0:00</td>\n",
       "      <td>Nut</td>\n",
       "      <td>1188 days 22:51:37.461516</td>\n",
       "    </tr>\n",
       "    <tr>\n",
       "      <td>10</td>\n",
       "      <td>549222</td>\n",
       "      <td>16008</td>\n",
       "      <td>6.45</td>\n",
       "      <td>2017</td>\n",
       "      <td>2017-04-07</td>\n",
       "      <td>1.030600</td>\n",
       "      <td>6.647370</td>\n",
       "      <td>12347</td>\n",
       "      <td>Iceland</td>\n",
       "      <td>0.014518</td>\n",
       "      <td>...</td>\n",
       "      <td>NORTH</td>\n",
       "      <td>JOHN A</td>\n",
       "      <td>WSE 2</td>\n",
       "      <td>5546.00000</td>\n",
       "      <td>1.015637</td>\n",
       "      <td>5632.724144</td>\n",
       "      <td>6/1/18 0:00</td>\n",
       "      <td>8/26/16 0:00</td>\n",
       "      <td>Bolt</td>\n",
       "      <td>1117 days 22:51:37.461516</td>\n",
       "    </tr>\n",
       "  </tbody>\n",
       "</table>\n",
       "<p>5 rows × 23 columns</p>\n",
       "</div>"
      ],
      "text/plain": [
       "   InvoiceNo StockCode  Quantity Shipped  Year Invoice Date  UnitPrice  \\\n",
       "0    C541433     23166             16.65  2017   2017-01-18   1.095992   \n",
       "1    C541433     23166             16.65  2017   2017-01-18   1.095992   \n",
       "4     542237     22417              1.00  2017   2017-01-26   0.854470   \n",
       "5     542237     22417              1.00  2017   2017-01-26   0.854470   \n",
       "10    549222     16008              6.45  2017   2017-04-07   1.030600   \n",
       "\n",
       "    Ext-Price  CustomerID         Country       GM%  ... REGION  SALES P  \\\n",
       "0   18.248267       12346  United Kingdom -0.175060  ...   WEST   JEFF Y   \n",
       "1   18.248267       12346  United Kingdom -0.175060  ...   WEST   JEFF Y   \n",
       "4    0.854470       12347         Iceland -0.065518  ...  NORTH   JOHN A   \n",
       "5    0.854470       12347         Iceland -0.065518  ...  NORTH   JOHN A   \n",
       "10   6.647370       12347         Iceland  0.014518  ...  NORTH   JOHN A   \n",
       "\n",
       "    LOCATION QUANTITY ON HAND UNIT COST EXTENDED COST         DATE  \\\n",
       "0      WSE 2       1892.00000  1.287856   2436.623660  6/1/18 0:00   \n",
       "1      WSE 2       1627.12000  1.287856   2095.496347  6/1/17 0:00   \n",
       "4      WSE 1      15887.14286  0.910453  14464.495630  6/1/18 0:00   \n",
       "5      WSE 1      13345.20000  0.910453  12150.176330  6/1/17 0:00   \n",
       "10     WSE 2       5546.00000  1.015637   5632.724144  6/1/18 0:00   \n",
       "\n",
       "    LASTRECEIPTDATE   Commodity            timedifference  \n",
       "0        8/5/14 0:00     Washer 1196 days 22:51:37.461516  \n",
       "1      11/10/13 0:00     Washer 1196 days 22:51:37.461516  \n",
       "4        7/9/15 0:00        Nut 1188 days 22:51:37.461516  \n",
       "5       3/24/18 0:00        Nut 1188 days 22:51:37.461516  \n",
       "10      8/26/16 0:00       Bolt 1117 days 22:51:37.461516  \n",
       "\n",
       "[5 rows x 23 columns]"
      ]
     },
     "execution_count": 8,
     "metadata": {},
     "output_type": "execute_result"
    }
   ],
   "source": [
    "data07=data.loc[data['Year'].isin(['2017'])]\n",
    "data07.head(5)"
   ]
  },
  {
   "cell_type": "code",
   "execution_count": 9,
   "metadata": {},
   "outputs": [
    {
     "name": "stderr",
     "output_type": "stream",
     "text": [
      "/Users/meganchen/opt/anaconda3/lib/python3.7/site-packages/ipykernel_launcher.py:3: FutureWarning: using a dict on a Series for aggregation\n",
      "is deprecated and will be removed in a future version. Use                 named aggregation instead.\n",
      "\n",
      "    >>> grouper.agg(name_1=func_1, name_2=func_2)\n",
      "\n",
      "  This is separate from the ipykernel package so we can avoid doing imports until\n"
     ]
    }
   ],
   "source": [
    "R_Agg = data07.groupby(by=['CustomerID']\n",
    ")['timedifference'].agg({\n",
    "    'RecencyAgg': np.min\n",
    "})"
   ]
  },
  {
   "cell_type": "code",
   "execution_count": 10,
   "metadata": {},
   "outputs": [
    {
     "name": "stderr",
     "output_type": "stream",
     "text": [
      "/Users/meganchen/opt/anaconda3/lib/python3.7/site-packages/ipykernel_launcher.py:3: FutureWarning: using a dict on a Series for aggregation\n",
      "is deprecated and will be removed in a future version. Use                 named aggregation instead.\n",
      "\n",
      "    >>> grouper.agg(name_1=func_1, name_2=func_2)\n",
      "\n",
      "  This is separate from the ipykernel package so we can avoid doing imports until\n"
     ]
    }
   ],
   "source": [
    "R_Agg1 = data08.groupby(by=['CustomerID']\n",
    ")['timedifference'].agg({\n",
    "    'RecencyAgg': np.min\n",
    "})"
   ]
  },
  {
   "cell_type": "code",
   "execution_count": 11,
   "metadata": {},
   "outputs": [
    {
     "name": "stderr",
     "output_type": "stream",
     "text": [
      "/Users/meganchen/opt/anaconda3/lib/python3.7/site-packages/ipykernel_launcher.py:2: FutureWarning: using a dict on a Series for aggregation\n",
      "is deprecated and will be removed in a future version. Use                 named aggregation instead.\n",
      "\n",
      "    >>> grouper.agg(name_1=func_1, name_2=func_2)\n",
      "\n",
      "  \n"
     ]
    }
   ],
   "source": [
    "F_Agg = data07.groupby( by=['CustomerID']\n",
    ")['InvoiceNo'].agg({'FrequencyAgg': np.size\n",
    "})"
   ]
  },
  {
   "cell_type": "code",
   "execution_count": 12,
   "metadata": {},
   "outputs": [
    {
     "name": "stderr",
     "output_type": "stream",
     "text": [
      "/Users/meganchen/opt/anaconda3/lib/python3.7/site-packages/ipykernel_launcher.py:2: FutureWarning: using a dict on a Series for aggregation\n",
      "is deprecated and will be removed in a future version. Use                 named aggregation instead.\n",
      "\n",
      "    >>> grouper.agg(name_1=func_1, name_2=func_2)\n",
      "\n",
      "  \n"
     ]
    }
   ],
   "source": [
    "F_Agg1 = data08.groupby( by=['CustomerID']\n",
    ")['InvoiceNo'].agg({'FrequencyAgg': np.size\n",
    "})"
   ]
  },
  {
   "cell_type": "code",
   "execution_count": 13,
   "metadata": {},
   "outputs": [
    {
     "name": "stderr",
     "output_type": "stream",
     "text": [
      "/Users/meganchen/opt/anaconda3/lib/python3.7/site-packages/ipykernel_launcher.py:2: FutureWarning: using a dict on a Series for aggregation\n",
      "is deprecated and will be removed in a future version. Use                 named aggregation instead.\n",
      "\n",
      "    >>> grouper.agg(name_1=func_1, name_2=func_2)\n",
      "\n",
      "  \n"
     ]
    }
   ],
   "source": [
    "M_Agg = data07.groupby(by=['CustomerID']\n",
    ")['Ext-Price'].agg({'MonetaryAgg': np.sum\n",
    "})\n"
   ]
  },
  {
   "cell_type": "code",
   "execution_count": 14,
   "metadata": {},
   "outputs": [
    {
     "name": "stderr",
     "output_type": "stream",
     "text": [
      "/Users/meganchen/opt/anaconda3/lib/python3.7/site-packages/ipykernel_launcher.py:2: FutureWarning: using a dict on a Series for aggregation\n",
      "is deprecated and will be removed in a future version. Use                 named aggregation instead.\n",
      "\n",
      "    >>> grouper.agg(name_1=func_1, name_2=func_2)\n",
      "\n",
      "  \n"
     ]
    }
   ],
   "source": [
    "M_Agg1 = data08.groupby(by=['CustomerID']\n",
    ")['Ext-Price'].agg({'MonetaryAgg': np.sum\n",
    "})\n"
   ]
  },
  {
   "cell_type": "code",
   "execution_count": 15,
   "metadata": {},
   "outputs": [
    {
     "data": {
      "text/html": [
       "<div>\n",
       "<style scoped>\n",
       "    .dataframe tbody tr th:only-of-type {\n",
       "        vertical-align: middle;\n",
       "    }\n",
       "\n",
       "    .dataframe tbody tr th {\n",
       "        vertical-align: top;\n",
       "    }\n",
       "\n",
       "    .dataframe thead th {\n",
       "        text-align: right;\n",
       "    }\n",
       "</style>\n",
       "<table border=\"1\" class=\"dataframe\">\n",
       "  <thead>\n",
       "    <tr style=\"text-align: right;\">\n",
       "      <th></th>\n",
       "      <th>RecencyAgg</th>\n",
       "      <th>FrequencyAgg</th>\n",
       "      <th>MonetaryAgg</th>\n",
       "    </tr>\n",
       "    <tr>\n",
       "      <th>CustomerID</th>\n",
       "      <th></th>\n",
       "      <th></th>\n",
       "      <th></th>\n",
       "    </tr>\n",
       "  </thead>\n",
       "  <tbody>\n",
       "    <tr>\n",
       "      <td>12346</td>\n",
       "      <td>1196 days 22:51:37.461516</td>\n",
       "      <td>2</td>\n",
       "      <td>36.496534</td>\n",
       "    </tr>\n",
       "    <tr>\n",
       "      <td>12347</td>\n",
       "      <td>873 days 22:51:37.461516</td>\n",
       "      <td>190</td>\n",
       "      <td>10732.347944</td>\n",
       "    </tr>\n",
       "    <tr>\n",
       "      <td>12348</td>\n",
       "      <td>946 days 22:51:37.461516</td>\n",
       "      <td>20</td>\n",
       "      <td>3273.166844</td>\n",
       "    </tr>\n",
       "    <tr>\n",
       "      <td>12349</td>\n",
       "      <td>889 days 22:51:37.461516</td>\n",
       "      <td>120</td>\n",
       "      <td>1539.890264</td>\n",
       "    </tr>\n",
       "    <tr>\n",
       "      <td>12350</td>\n",
       "      <td>1181 days 22:51:37.461516</td>\n",
       "      <td>32</td>\n",
       "      <td>441.229418</td>\n",
       "    </tr>\n",
       "    <tr>\n",
       "      <td>12352</td>\n",
       "      <td>907 days 22:51:37.461516</td>\n",
       "      <td>106</td>\n",
       "      <td>1971.427793</td>\n",
       "    </tr>\n",
       "    <tr>\n",
       "      <td>12353</td>\n",
       "      <td>1075 days 22:51:37.461516</td>\n",
       "      <td>6</td>\n",
       "      <td>159.849998</td>\n",
       "    </tr>\n",
       "    <tr>\n",
       "      <td>12354</td>\n",
       "      <td>1103 days 22:51:37.461516</td>\n",
       "      <td>92</td>\n",
       "      <td>20797.438635</td>\n",
       "    </tr>\n",
       "    <tr>\n",
       "      <td>12356</td>\n",
       "      <td>893 days 22:51:37.461516</td>\n",
       "      <td>2</td>\n",
       "      <td>1.553240</td>\n",
       "    </tr>\n",
       "    <tr>\n",
       "      <td>12357</td>\n",
       "      <td>904 days 22:51:37.461516</td>\n",
       "      <td>232</td>\n",
       "      <td>21241.118414</td>\n",
       "    </tr>\n",
       "  </tbody>\n",
       "</table>\n",
       "</div>"
      ],
      "text/plain": [
       "                          RecencyAgg  FrequencyAgg   MonetaryAgg\n",
       "CustomerID                                                      \n",
       "12346      1196 days 22:51:37.461516             2     36.496534\n",
       "12347       873 days 22:51:37.461516           190  10732.347944\n",
       "12348       946 days 22:51:37.461516            20   3273.166844\n",
       "12349       889 days 22:51:37.461516           120   1539.890264\n",
       "12350      1181 days 22:51:37.461516            32    441.229418\n",
       "12352       907 days 22:51:37.461516           106   1971.427793\n",
       "12353      1075 days 22:51:37.461516             6    159.849998\n",
       "12354      1103 days 22:51:37.461516            92  20797.438635\n",
       "12356       893 days 22:51:37.461516             2      1.553240\n",
       "12357       904 days 22:51:37.461516           232  21241.118414"
      ]
     },
     "execution_count": 15,
     "metadata": {},
     "output_type": "execute_result"
    }
   ],
   "source": [
    "aggData07 = R_Agg.join(F_Agg).join(M_Agg)\n",
    "aggData07.head(10)"
   ]
  },
  {
   "cell_type": "code",
   "execution_count": 16,
   "metadata": {},
   "outputs": [],
   "source": [
    "aggData08 = R_Agg1.join(F_Agg1).join(M_Agg1)\n"
   ]
  },
  {
   "cell_type": "code",
   "execution_count": 17,
   "metadata": {},
   "outputs": [],
   "source": [
    "bins = aggData07.RecencyAgg.quantile(\n",
    "    q=[0, 0.2, 0.4, 0.6, 0.8, 1],\n",
    "    interpolation='nearest'\n",
    ")\n",
    "\n",
    "labels = [5, 4, 3, 2, 1]\n",
    "R_S = pd.cut(\n",
    "    aggData07.RecencyAgg, \n",
    "    bins, labels=labels\n",
    ")\n"
   ]
  },
  {
   "cell_type": "code",
   "execution_count": 18,
   "metadata": {},
   "outputs": [],
   "source": [
    "bins = aggData08.RecencyAgg.quantile(\n",
    "    q=[0, 0.2, 0.4, 0.6, 0.8, 1],\n",
    "    interpolation='nearest'\n",
    ")\n",
    "\n",
    "labels = [5, 4, 3, 2, 1]\n",
    "R_S2 = pd.cut(\n",
    "    aggData08.RecencyAgg, \n",
    "    bins, labels=labels\n",
    ")\n"
   ]
  },
  {
   "cell_type": "code",
   "execution_count": 19,
   "metadata": {},
   "outputs": [],
   "source": [
    "\n",
    "bins = aggData07.FrequencyAgg.quantile(\n",
    "    q=[0, 0.2, 0.4, 0.6, 0.8, 1],\n",
    "    interpolation='nearest'\n",
    ")\n",
    "bins[0] = 0;\n",
    "labels = [1, 2, 3, 4, 5];\n",
    "F_S = pd.cut(\n",
    "    aggData07.FrequencyAgg, \n",
    "    bins, labels=labels\n",
    ")\n"
   ]
  },
  {
   "cell_type": "code",
   "execution_count": 20,
   "metadata": {},
   "outputs": [],
   "source": [
    "\n",
    "bins = aggData08.FrequencyAgg.quantile(\n",
    "    q=[0, 0.2, 0.4, 0.6, 0.8, 1],\n",
    "    interpolation='nearest'\n",
    ")\n",
    "bins[0] = 0;\n",
    "labels = [1, 2, 3, 4, 5];\n",
    "F_S2 = pd.cut(\n",
    "    aggData08.FrequencyAgg, \n",
    "    bins, labels=labels\n",
    ")\n"
   ]
  },
  {
   "cell_type": "code",
   "execution_count": 21,
   "metadata": {},
   "outputs": [],
   "source": [
    "\n",
    "bins = aggData07.MonetaryAgg.quantile(\n",
    "    q=[0, 0.2, 0.4, 0.6, 0.8, 1],\n",
    "    interpolation='nearest'\n",
    ")\n",
    "bins[0] = 0\n",
    "labels = [1, 2, 3, 4, 5]\n",
    "M_S = pd.cut(aggData07.MonetaryAgg, bins, labels=labels)\n",
    "\n"
   ]
  },
  {
   "cell_type": "code",
   "execution_count": 22,
   "metadata": {},
   "outputs": [],
   "source": [
    "\n",
    "bins = aggData08.MonetaryAgg.quantile(\n",
    "    q=[0, 0.2, 0.4, 0.6, 0.8, 1],\n",
    "    interpolation='nearest'\n",
    ")\n",
    "bins[0] = 0\n",
    "labels = [1, 2, 3, 4, 5]\n",
    "M_S2 = pd.cut(aggData08.MonetaryAgg, bins, labels=labels)\n",
    "\n"
   ]
  },
  {
   "cell_type": "code",
   "execution_count": 23,
   "metadata": {},
   "outputs": [],
   "source": [
    "aggData07['R_S']=R_S\n",
    "aggData07['F_S']=F_S\n",
    "aggData07['M_S']=M_S\n",
    "aggData08['R_S']=R_S2\n",
    "aggData08['F_S']=F_S2\n",
    "aggData08['M_S']=M_S2\n"
   ]
  },
  {
   "cell_type": "code",
   "execution_count": 24,
   "metadata": {},
   "outputs": [],
   "source": [
    "aggData07['RFM'] = 100*R_S.astype(int) + 10*F_S.astype(int) + 1*M_S.astype(int)\n",
    " \n",
    "bins = aggData07.RFM.quantile(\n",
    "    q=[\n",
    "        0, 0.125, 0.25, 0.375, 0.5, \n",
    "        0.625, 0.75, 0.875, 1\n",
    "    ],\n",
    "    interpolation='nearest'\n",
    ")\n"
   ]
  },
  {
   "cell_type": "code",
   "execution_count": 25,
   "metadata": {},
   "outputs": [],
   "source": [
    "aggData08['RFM'] = 100*R_S2.astype(int) + 10*F_S2.astype(int) + 1*M_S2.astype(int)\n",
    " \n",
    "bins = aggData08.RFM.quantile(\n",
    "    q=[\n",
    "        0, 0.125, 0.25, 0.375, 0.5, \n",
    "        0.625, 0.75, 0.875, 1\n",
    "    ],\n",
    "    interpolation='nearest'\n",
    ")"
   ]
  },
  {
   "cell_type": "markdown",
   "metadata": {},
   "source": [
    "# gold customer"
   ]
  },
  {
   "cell_type": "code",
   "execution_count": 26,
   "metadata": {},
   "outputs": [
    {
     "data": {
      "text/plain": [
       "279"
      ]
     },
     "execution_count": 26,
     "metadata": {},
     "output_type": "execute_result"
    }
   ],
   "source": [
    "aggData07[aggData07[\"RFM\"]==555].count()[\"RFM\"]"
   ]
  },
  {
   "cell_type": "code",
   "execution_count": 27,
   "metadata": {},
   "outputs": [
    {
     "data": {
      "text/plain": [
       "210"
      ]
     },
     "execution_count": 27,
     "metadata": {},
     "output_type": "execute_result"
    }
   ],
   "source": [
    "aggData08[aggData08[\"RFM\"]==555].count()[\"RFM\"]"
   ]
  },
  {
   "cell_type": "code",
   "execution_count": 28,
   "metadata": {},
   "outputs": [],
   "source": [
    "gold17=aggData07.loc[aggData07['RFM'] == 555]\n",
    "gold17.reset_index(inplace=True)"
   ]
  },
  {
   "cell_type": "code",
   "execution_count": 29,
   "metadata": {},
   "outputs": [
    {
     "data": {
      "text/html": [
       "<div>\n",
       "<style scoped>\n",
       "    .dataframe tbody tr th:only-of-type {\n",
       "        vertical-align: middle;\n",
       "    }\n",
       "\n",
       "    .dataframe tbody tr th {\n",
       "        vertical-align: top;\n",
       "    }\n",
       "\n",
       "    .dataframe thead th {\n",
       "        text-align: right;\n",
       "    }\n",
       "</style>\n",
       "<table border=\"1\" class=\"dataframe\">\n",
       "  <thead>\n",
       "    <tr style=\"text-align: right;\">\n",
       "      <th></th>\n",
       "      <th>CustomerID</th>\n",
       "      <th>RecencyAgg</th>\n",
       "      <th>FrequencyAgg</th>\n",
       "      <th>MonetaryAgg</th>\n",
       "      <th>R_S</th>\n",
       "      <th>F_S</th>\n",
       "      <th>M_S</th>\n",
       "      <th>RFM</th>\n",
       "    </tr>\n",
       "  </thead>\n",
       "  <tbody>\n",
       "    <tr>\n",
       "      <td>0</td>\n",
       "      <td>12359</td>\n",
       "      <td>878 days 22:51:37.461516</td>\n",
       "      <td>300</td>\n",
       "      <td>6332.372746</td>\n",
       "      <td>5</td>\n",
       "      <td>5</td>\n",
       "      <td>5</td>\n",
       "      <td>555</td>\n",
       "    </tr>\n",
       "    <tr>\n",
       "      <td>1</td>\n",
       "      <td>12362</td>\n",
       "      <td>874 days 22:51:37.461516</td>\n",
       "      <td>460</td>\n",
       "      <td>9128.664646</td>\n",
       "      <td>5</td>\n",
       "      <td>5</td>\n",
       "      <td>5</td>\n",
       "      <td>555</td>\n",
       "    </tr>\n",
       "    <tr>\n",
       "      <td>2</td>\n",
       "      <td>12433</td>\n",
       "      <td>880 days 22:51:37.461516</td>\n",
       "      <td>1976</td>\n",
       "      <td>90350.459660</td>\n",
       "      <td>5</td>\n",
       "      <td>5</td>\n",
       "      <td>5</td>\n",
       "      <td>555</td>\n",
       "    </tr>\n",
       "    <tr>\n",
       "      <td>3</td>\n",
       "      <td>12437</td>\n",
       "      <td>872 days 22:51:37.461516</td>\n",
       "      <td>298</td>\n",
       "      <td>20985.082462</td>\n",
       "      <td>5</td>\n",
       "      <td>5</td>\n",
       "      <td>5</td>\n",
       "      <td>555</td>\n",
       "    </tr>\n",
       "    <tr>\n",
       "      <td>4</td>\n",
       "      <td>12451</td>\n",
       "      <td>881 days 22:51:37.461516</td>\n",
       "      <td>472</td>\n",
       "      <td>11052.040912</td>\n",
       "      <td>5</td>\n",
       "      <td>5</td>\n",
       "      <td>5</td>\n",
       "      <td>555</td>\n",
       "    </tr>\n",
       "  </tbody>\n",
       "</table>\n",
       "</div>"
      ],
      "text/plain": [
       "   CustomerID               RecencyAgg  FrequencyAgg   MonetaryAgg R_S F_S  \\\n",
       "0       12359 878 days 22:51:37.461516           300   6332.372746   5   5   \n",
       "1       12362 874 days 22:51:37.461516           460   9128.664646   5   5   \n",
       "2       12433 880 days 22:51:37.461516          1976  90350.459660   5   5   \n",
       "3       12437 872 days 22:51:37.461516           298  20985.082462   5   5   \n",
       "4       12451 881 days 22:51:37.461516           472  11052.040912   5   5   \n",
       "\n",
       "  M_S  RFM  \n",
       "0   5  555  \n",
       "1   5  555  \n",
       "2   5  555  \n",
       "3   5  555  \n",
       "4   5  555  "
      ]
     },
     "execution_count": 29,
     "metadata": {},
     "output_type": "execute_result"
    }
   ],
   "source": [
    "gold17.head(5)"
   ]
  },
  {
   "cell_type": "code",
   "execution_count": 30,
   "metadata": {},
   "outputs": [],
   "source": [
    "gold18=aggData08.loc[aggData08['RFM'] == 555]\n",
    "gold18.reset_index(inplace=True)"
   ]
  },
  {
   "cell_type": "code",
   "execution_count": 31,
   "metadata": {},
   "outputs": [],
   "source": [
    "def findMissing(a, b, n, m): \n",
    "      \n",
    "    # Store all elements of second  \n",
    "    # array in a hash table \n",
    "    s = dict() \n",
    "    for i in range(m): \n",
    "        s[b[i]] = 1\n",
    "  \n",
    "    # Print all elements of first array  \n",
    "    # that are not present in hash table \n",
    "    for i in range(n): \n",
    "        if a[i] not in s.keys(): \n",
    "            print(a[i], end = \" \") "
   ]
  },
  {
   "cell_type": "markdown",
   "metadata": {},
   "source": [
    "# 17 gold in18"
   ]
  },
  {
   "cell_type": "code",
   "execution_count": 32,
   "metadata": {},
   "outputs": [
    {
     "name": "stdout",
     "output_type": "stream",
     "text": [
      "12359 12362 12437 12451 12536 12553 12562 12569 12627 12683 12700 12709 12714 12753 12766 12839 12841 12856 12955 13001 13030 13069 13081 13090 13113 13115 13137 13184 13230 13266 13269 13362 13394 13437 13468 13471 13571 13576 13599 13705 13755 13777 13798 13949 13985 14071 14096 14132 14146 14189 14191 14194 14262 14367 14395 14418 14546 14547 14562 14572 14659 14702 14713 14735 14868 14895 14907 15021 15033 15046 15144 15152 15189 15271 15290 15299 15351 15382 15436 15443 15484 15498 15514 15547 15555 15701 15750 15769 15804 15838 15861 15862 15867 15907 15984 15987 15993 16011 16013 16015 16133 16145 16161 16191 16242 16326 16360 16393 16426 16440 16474 16523 16539 16592 16626 16672 16678 16700 16701 16717 16719 16744 16754 16764 16818 16839 16873 16910 16942 17049 17068 17091 17231 17238 17243 17287 17364 17389 17419 17450 17528 17567 17576 17590 17602 17651 17673 17675 17686 17706 17730 17732 17744 17757 17769 17809 17811 17813 17861 17870 17897 17920 18041 18055 18096 18102 18109 18122 18145 18172 18225 18229 18245 "
     ]
    }
   ],
   "source": [
    "a=gold17['CustomerID'].unique()\n",
    "\n",
    "b=gold18['CustomerID'].unique()\n",
    "n=len(a)\n",
    "m=len(b)\n",
    "findMissing(a,b,n,m)\n"
   ]
  },
  {
   "cell_type": "markdown",
   "metadata": {},
   "source": [
    "# gold in 18 not 17"
   ]
  },
  {
   "cell_type": "code",
   "execution_count": 32,
   "metadata": {},
   "outputs": [
    {
     "name": "stdout",
     "output_type": "stream",
     "text": [
      "12370 12377 12383 12415 12431 12444 12474 12481 12484 12668 12721 12867 13093 13097 13148 13268 13319 13505 13869 14016 14032 14078 14099 14156 14159 14236 14237 14404 14415 14426 14496 14524 14583 14680 14701 14733 14796 14808 14849 14854 15005 15034 15039 15044 15070 15100 15311 15356 15358 15379 15384 15513 15570 15615 15644 15665 15700 15834 15998 16033 16059 16186 16187 16218 16241 16395 16422 16550 16553 16558 16670 16710 16713 16770 16782 16843 16898 16916 16919 16931 16940 16995 17001 17181 17315 17323 17372 17420 17428 17581 17585 17643 17659 17690 17799 17802 17865 17961 17968 17979 18077 18085 18223 18260 "
     ]
    }
   ],
   "source": [
    "a=gold18['CustomerID'].unique()\n",
    "\n",
    "b=gold17['CustomerID'].unique()\n",
    "n=len(a)\n",
    "m=len(b)\n",
    "findMissing(a,b,n,m)"
   ]
  },
  {
   "cell_type": "markdown",
   "metadata": {},
   "source": [
    "# silver"
   ]
  },
  {
   "cell_type": "code",
   "execution_count": 35,
   "metadata": {},
   "outputs": [
    {
     "data": {
      "text/plain": [
       "784"
      ]
     },
     "execution_count": 35,
     "metadata": {},
     "output_type": "execute_result"
    }
   ],
   "source": [
    "aggData08[(aggData08['RFM'] != 555)& ((aggData08['R_S'] >= 4) | (aggData08['F_S'] >=4)) &(aggData08['M_S'] >= 4)].count()['RFM']"
   ]
  },
  {
   "cell_type": "code",
   "execution_count": 36,
   "metadata": {
    "scrolled": true
   },
   "outputs": [
    {
     "data": {
      "text/plain": [
       "1249"
      ]
     },
     "execution_count": 36,
     "metadata": {},
     "output_type": "execute_result"
    }
   ],
   "source": [
    "aggData07[(aggData07['RFM'] != 555)& ((aggData07['R_S'] >= 4) | (aggData07['F_S'] >=4)) &(aggData07['M_S'] >= 4)].count()['RFM']"
   ]
  },
  {
   "cell_type": "markdown",
   "metadata": {},
   "source": [
    "# Bronze:"
   ]
  },
  {
   "cell_type": "code",
   "execution_count": 37,
   "metadata": {},
   "outputs": [
    {
     "data": {
      "text/plain": [
       "928"
      ]
     },
     "execution_count": 37,
     "metadata": {},
     "output_type": "execute_result"
    }
   ],
   "source": [
    "aggData08[((aggData08['M_S'] == 2) | (aggData08['M_S'] == 3))&((aggData08['R_S'] >= 3) | (aggData08['F_S'] >= 3))].count()[\"RFM\"]\n"
   ]
  },
  {
   "cell_type": "code",
   "execution_count": 38,
   "metadata": {},
   "outputs": [
    {
     "data": {
      "text/plain": [
       "1403"
      ]
     },
     "execution_count": 38,
     "metadata": {},
     "output_type": "execute_result"
    }
   ],
   "source": [
    "aggData07[((aggData07['M_S'] == 2) | (aggData07['M_S'] == 3))&((aggData07['R_S'] >= 3) | (aggData07['F_S'] >= 3))].count()[\"RFM\"]"
   ]
  },
  {
   "cell_type": "markdown",
   "metadata": {},
   "source": [
    "# in 18 not 17"
   ]
  },
  {
   "cell_type": "code",
   "execution_count": 39,
   "metadata": {},
   "outputs": [
    {
     "name": "stdout",
     "output_type": "stream",
     "text": [
      "12355 12362 12373 12407 12417 12423 12428 12437 12447 12489 12530 12561 12564 12573 12574 12592 12600 12609 12613 12624 12649 12652 12664 12670 12676 12708 12709 12775 12782 12792 12793 12811 12826 12853 12857 12871 12872 12888 12904 12909 12924 12928 12951 12976 12997 13013 13014 13094 13110 13118 13121 13136 13168 13171 13174 13185 13187 13196 13220 13221 13239 13240 13285 13304 13309 13317 13327 13341 13358 13405 13410 13417 13456 13491 13496 13499 13502 13527 13564 13565 13570 13590 13606 13617 13623 13626 13630 13632 13637 13647 13650 13706 13708 13720 13752 13761 13772 13777 13782 13800 13824 13859 13880 13888 13898 13899 13901 13950 13976 13993 14004 14005 14023 14075 14114 14129 14130 14133 14149 14163 14188 14205 14211 14217 14221 14224 14229 14232 14242 14256 14270 14276 14289 14292 14299 14315 14320 14321 14339 14341 14401 14419 14423 14428 14431 14440 14449 14457 14514 14525 14544 14618 14620 14653 14679 14689 14696 14697 14700 14704 14709 14732 14759 14762 14779 14794 14805 14825 14850 14859 14867 14873 14883 14886 14896 14903 14907 14912 14959 14963 14984 15002 15019 15026 15071 15090 15098 15130 15132 15134 15143 15144 15145 15164 15171 15172 15199 15203 15210 15219 15236 15252 15279 15290 15298 15301 15312 15346 15437 15453 15465 15485 15497 15537 15561 15581 15607 15609 15630 15671 15687 15694 15696 15703 15752 15775 15789 15796 15804 15809 15810 15826 15827 15835 15841 15843 15858 15865 15909 15916 15932 15935 15955 15970 15974 15980 15981 15984 16003 16006 16010 16016 16018 16031 16034 16062 16063 16065 16116 16131 16150 16172 16175 16182 16188 16193 16205 16224 16230 16232 16244 16250 16266 16276 16297 16303 16350 16359 16393 16399 16419 16434 16440 16455 16461 16466 16495 16497 16499 16511 16549 16556 16567 16586 16628 16633 16643 16655 16660 16697 16717 16719 16727 16730 16744 16788 16795 16805 16816 16837 16841 16850 16875 16880 16882 16912 16942 16947 16954 16955 16957 16960 17002 17029 17042 17058 17062 17109 17115 17128 17155 17157 17158 17159 17162 17187 17212 17217 17218 17226 17251 17278 17303 17329 17358 17362 17438 17442 17449 17460 17470 17472 17486 17501 17505 17512 17537 17551 17555 17556 17569 17571 17579 17589 17631 17642 17644 17648 17658 17671 17672 17706 17708 17774 17790 17796 17800 17843 17861 17864 17880 17883 17890 17893 17917 17921 17931 17955 17960 17970 17972 18016 18044 18062 18065 18071 18073 18106 18112 18119 18177 18189 18202 18212 18221 18263 "
     ]
    },
    {
     "name": "stderr",
     "output_type": "stream",
     "text": [
      "/Users/meganchen/opt/anaconda3/lib/python3.7/site-packages/ipykernel_launcher.py:2: UserWarning: Boolean Series key will be reindexed to match DataFrame index.\n",
      "  \n"
     ]
    }
   ],
   "source": [
    "bronze18=aggData08[((aggData08['M_S'] == 2) | (aggData08['M_S'] == 3))&((aggData08['R_S'] >= 3) | (aggData08['F_S'] >= 3))]\n",
    "bronze17=aggData07[((aggData08['M_S'] == 2) | (aggData07['M_S'] == 3))&((aggData07['R_S'] >= 3) | (aggData07['F_S'] >= 3))]\n",
    "bronze18.reset_index(inplace=True) \n",
    "bronze17.reset_index(inplace=True)\n",
    "g=bronze18['CustomerID'].unique()\n",
    "h=bronze17['CustomerID'].unique()\n",
    "n=len(g)\n",
    "m=len(h)\n",
    "findMissing(g,h,n,m)"
   ]
  },
  {
   "cell_type": "markdown",
   "metadata": {},
   "source": [
    "# in 17 not in 18"
   ]
  },
  {
   "cell_type": "code",
   "execution_count": 40,
   "metadata": {},
   "outputs": [
    {
     "name": "stdout",
     "output_type": "stream",
     "text": [
      "12383 12388 12399 12421 12432 12465 12494 12514 12523 12541 12576 12679 12694 12697 12704 12717 12759 12816 12820 12840 12878 12913 12919 12930 12942 12963 12989 12993 13008 13027 13037 13049 13055 13077 13080 13092 13117 13122 13126 13141 13211 13213 13246 13280 13284 13368 13437 13453 13461 13475 13493 13495 13510 13515 13516 13531 13614 13725 13736 13787 13791 13862 13890 13895 13937 13982 13983 14013 14083 14113 14150 14152 14154 14201 14209 14215 14222 14240 14267 14293 14297 14344 14364 14383 14393 14397 14403 14414 14460 14477 14491 14512 14541 14549 14553 14560 14561 14622 14628 14636 14643 14657 14669 14673 14741 14765 14790 14798 14898 14901 14960 14973 14988 15014 15117 15122 15146 15182 15192 15197 15262 15370 15376 15392 15517 15535 15589 15599 15625 15641 15656 15658 15669 15674 15754 15808 15898 15952 15976 16022 16083 16105 16122 16214 16233 16247 16271 16279 16327 16357 16365 16367 16386 16392 16463 16470 16473 16484 16503 16531 16560 16609 16612 16766 16780 16782 16804 16807 16842 16877 16889 16950 16996 17007 17041 17047 17054 17063 17064 17071 17095 17096 17110 17114 17126 17147 17166 17175 17230 17236 17262 17265 17299 17324 17351 17371 17394 17409 17444 17469 17491 17515 17522 17560 17604 17629 17639 17664 17669 17676 17720 17722 17731 17739 17759 17768 17838 17874 17877 17889 17980 17988 17990 18069 18075 18078 18168 18193 18252 18257 18259 "
     ]
    }
   ],
   "source": [
    "g=bronze17['CustomerID'].unique()\n",
    "h=bronze18['CustomerID'].unique()\n",
    "n=len(g)\n",
    "m=len(h)\n",
    "findMissing(g,h,n,m)"
   ]
  },
  {
   "cell_type": "code",
   "execution_count": 41,
   "metadata": {},
   "outputs": [],
   "source": [
    "aggData07.to_csv(\"aggData07.csv\",sep=\",\",index=True,header=True)"
   ]
  },
  {
   "cell_type": "code",
   "execution_count": 42,
   "metadata": {},
   "outputs": [],
   "source": [
    "aggData08.to_csv(\"aggData08.csv\",sep=\",\",index=True,header=True)"
   ]
  },
  {
   "cell_type": "code",
   "execution_count": 43,
   "metadata": {},
   "outputs": [],
   "source": [
    "bronze17.to_csv(\"bronze17.csv\",sep=\",\",index=True,header=True)"
   ]
  },
  {
   "cell_type": "code",
   "execution_count": 44,
   "metadata": {},
   "outputs": [],
   "source": [
    "bronze18.to_csv(\"bronze18.csv\",sep=\",\",index=True,header=True)"
   ]
  },
  {
   "cell_type": "code",
   "execution_count": 47,
   "metadata": {},
   "outputs": [],
   "source": [
    "gold17.to_csv(\"gold17.csv\",sep=\",\",index=True,header=True)"
   ]
  },
  {
   "cell_type": "code",
   "execution_count": 48,
   "metadata": {},
   "outputs": [],
   "source": [
    "gold18.to_csv(\"gold18.csv\",sep=\",\",index=True,header=True)"
   ]
  }
 ],
 "metadata": {
  "kernelspec": {
   "display_name": "Python 3",
   "language": "python",
   "name": "python3"
  },
  "language_info": {
   "codemirror_mode": {
    "name": "ipython",
    "version": 3
   },
   "file_extension": ".py",
   "mimetype": "text/x-python",
   "name": "python",
   "nbconvert_exporter": "python",
   "pygments_lexer": "ipython3",
   "version": "3.7.3"
  }
 },
 "nbformat": 4,
 "nbformat_minor": 2
}
